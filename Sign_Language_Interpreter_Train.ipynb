{
 "cells": [
  {
   "attachments": {},
   "cell_type": "markdown",
   "id": "4b37383e",
   "metadata": {},
   "source": [
    "<!-- This Code is taken from https://www.kaggle.com/code/jvthunder/lstm-baseline-for-starters-sign-language/notebook -->\n",
    "\n"
   ]
  },
  {
   "attachments": {},
   "cell_type": "markdown",
   "id": "a509bf51",
   "metadata": {},
   "source": [
    "**TRAINING AN LSTM MODEL TO TRANSLATE SIGN LANGUAGE TO ENGLISH TEXT**"
   ]
  },
  {
   "attachments": {},
   "cell_type": "markdown",
   "id": "9ce2443c",
   "metadata": {},
   "source": [
    "This code is taken from :\n",
    "https://www.kaggle.com/code/jvthunder/lstm-baseline-for-starters-sign-language"
   ]
  },
  {
   "cell_type": "markdown",
   "id": "970cb79a",
   "metadata": {
    "papermill": {
     "duration": 0.004375,
     "end_time": "2023-03-16T15:16:25.981000",
     "exception": false,
     "start_time": "2023-03-16T15:16:25.976625",
     "status": "completed"
    },
    "tags": []
   },
   "source": [
    "<a id=\"section-one\"></a>\n",
    "# Import Libraries and Set File Directories"
   ]
  },
  {
   "cell_type": "code",
   "execution_count": 1,
   "id": "59224a4b",
   "metadata": {
    "_cell_guid": "b1076dfc-b9ad-4769-8c92-a6c4dae69d19",
    "_uuid": "8f2839f25d086af736a60e9eeb907d3b93b6e0e5",
    "execution": {
     "iopub.execute_input": "2023-03-16T15:16:25.993421Z",
     "iopub.status.busy": "2023-03-16T15:16:25.992193Z",
     "iopub.status.idle": "2023-03-16T15:16:34.212338Z",
     "shell.execute_reply": "2023-03-16T15:16:34.211165Z"
    },
    "papermill": {
     "duration": 8.229713,
     "end_time": "2023-03-16T15:16:34.215287",
     "exception": false,
     "start_time": "2023-03-16T15:16:25.985574",
     "status": "completed"
    },
    "tags": []
   },
   "outputs": [],
   "source": [
    "# import libraries\n",
    "import pandas as pd\n",
    "import numpy as np\n",
    "import matplotlib.pyplot as plt\n",
    "import tensorflow as tf\n",
    "from tensorflow.keras import layers, optimizers"
   ]
  },
  {
   "cell_type": "code",
   "execution_count": 2,
   "id": "b086608b",
   "metadata": {
    "execution": {
     "iopub.execute_input": "2023-03-16T15:16:34.226676Z",
     "iopub.status.busy": "2023-03-16T15:16:34.226029Z",
     "iopub.status.idle": "2023-03-16T15:16:34.230853Z",
     "shell.execute_reply": "2023-03-16T15:16:34.229739Z"
    },
    "papermill": {
     "duration": 0.013293,
     "end_time": "2023-03-16T15:16:34.233516",
     "exception": false,
     "start_time": "2023-03-16T15:16:34.220223",
     "status": "completed"
    },
    "tags": []
   },
   "outputs": [],
   "source": [
    "# set files directories\n",
    "LANDMARK_FILES_DIR = \"./train_landmark_files\"\n",
    "TRAIN_FILE = \"./train.csv/train.csv\""
   ]
  },
  {
   "cell_type": "markdown",
   "id": "e166c38c",
   "metadata": {
    "papermill": {
     "duration": 0.004459,
     "end_time": "2023-03-16T15:16:34.242790",
     "exception": false,
     "start_time": "2023-03-16T15:16:34.238331",
     "status": "completed"
    },
    "tags": []
   },
   "source": [
    "<a id=\"section-two\"></a>\n",
    "# Visualize data"
   ]
  },
  {
   "cell_type": "markdown",
   "id": "89459148",
   "metadata": {
    "papermill": {
     "duration": 0.004441,
     "end_time": "2023-03-16T15:16:34.251795",
     "exception": false,
     "start_time": "2023-03-16T15:16:34.247354",
     "status": "completed"
    },
    "tags": []
   },
   "source": [
    "Slightly different from a dataframe, in this competition we will be using a [parquet](https://towardsdatascience.com/demystifying-the-parquet-file-format-13adb0206705). We will read it using the command `read_parquet`."
   ]
  },
  {
   "cell_type": "code",
   "execution_count": 3,
   "id": "930f2404",
   "metadata": {
    "execution": {
     "iopub.execute_input": "2023-03-16T15:16:34.262478Z",
     "iopub.status.busy": "2023-03-16T15:16:34.261899Z",
     "iopub.status.idle": "2023-03-16T15:16:34.426234Z",
     "shell.execute_reply": "2023-03-16T15:16:34.425290Z"
    },
    "papermill": {
     "duration": 0.172362,
     "end_time": "2023-03-16T15:16:34.428754",
     "exception": false,
     "start_time": "2023-03-16T15:16:34.256392",
     "status": "completed"
    },
    "tags": []
   },
   "outputs": [
    {
     "data": {
      "text/html": [
       "<div>\n",
       "<style scoped>\n",
       "    .dataframe tbody tr th:only-of-type {\n",
       "        vertical-align: middle;\n",
       "    }\n",
       "\n",
       "    .dataframe tbody tr th {\n",
       "        vertical-align: top;\n",
       "    }\n",
       "\n",
       "    .dataframe thead th {\n",
       "        text-align: right;\n",
       "    }\n",
       "</style>\n",
       "<table border=\"1\" class=\"dataframe\">\n",
       "  <thead>\n",
       "    <tr style=\"text-align: right;\">\n",
       "      <th></th>\n",
       "      <th>frame</th>\n",
       "      <th>row_id</th>\n",
       "      <th>type</th>\n",
       "      <th>landmark_index</th>\n",
       "      <th>x</th>\n",
       "      <th>y</th>\n",
       "      <th>z</th>\n",
       "    </tr>\n",
       "  </thead>\n",
       "  <tbody>\n",
       "    <tr>\n",
       "      <th>0</th>\n",
       "      <td>103</td>\n",
       "      <td>103-face-0</td>\n",
       "      <td>face</td>\n",
       "      <td>0</td>\n",
       "      <td>0.437886</td>\n",
       "      <td>0.437599</td>\n",
       "      <td>-0.051134</td>\n",
       "    </tr>\n",
       "    <tr>\n",
       "      <th>1</th>\n",
       "      <td>103</td>\n",
       "      <td>103-face-1</td>\n",
       "      <td>face</td>\n",
       "      <td>1</td>\n",
       "      <td>0.443258</td>\n",
       "      <td>0.392901</td>\n",
       "      <td>-0.067054</td>\n",
       "    </tr>\n",
       "    <tr>\n",
       "      <th>2</th>\n",
       "      <td>103</td>\n",
       "      <td>103-face-2</td>\n",
       "      <td>face</td>\n",
       "      <td>2</td>\n",
       "      <td>0.443997</td>\n",
       "      <td>0.409998</td>\n",
       "      <td>-0.042990</td>\n",
       "    </tr>\n",
       "    <tr>\n",
       "      <th>3</th>\n",
       "      <td>103</td>\n",
       "      <td>103-face-3</td>\n",
       "      <td>face</td>\n",
       "      <td>3</td>\n",
       "      <td>0.435256</td>\n",
       "      <td>0.362771</td>\n",
       "      <td>-0.039492</td>\n",
       "    </tr>\n",
       "    <tr>\n",
       "      <th>4</th>\n",
       "      <td>103</td>\n",
       "      <td>103-face-4</td>\n",
       "      <td>face</td>\n",
       "      <td>4</td>\n",
       "      <td>0.443780</td>\n",
       "      <td>0.381762</td>\n",
       "      <td>-0.068013</td>\n",
       "    </tr>\n",
       "  </tbody>\n",
       "</table>\n",
       "</div>"
      ],
      "text/plain": [
       "   frame      row_id  type  landmark_index         x         y         z\n",
       "0    103  103-face-0  face               0  0.437886  0.437599 -0.051134\n",
       "1    103  103-face-1  face               1  0.443258  0.392901 -0.067054\n",
       "2    103  103-face-2  face               2  0.443997  0.409998 -0.042990\n",
       "3    103  103-face-3  face               3  0.435256  0.362771 -0.039492\n",
       "4    103  103-face-4  face               4  0.443780  0.381762 -0.068013"
      ]
     },
     "execution_count": 3,
     "metadata": {},
     "output_type": "execute_result"
    }
   ],
   "source": [
    "# read the data, the type of the data\n",
    "sample = pd.read_parquet(\"./train_landmark_files/16069/100015657.parquet\")\n",
    "sample.head()"
   ]
  },
  {
   "cell_type": "markdown",
   "id": "abc75bfd",
   "metadata": {
    "papermill": {
     "duration": 0.00472,
     "end_time": "2023-03-16T15:16:34.438918",
     "exception": false,
     "start_time": "2023-03-16T15:16:34.434198",
     "status": "completed"
    },
    "tags": []
   },
   "source": [
    "Everyone likes to visualize things right? Since the data is about sequences of hand movement, we might not be able to see it from tabular data only. Let us instead plot the movement into matplotlib."
   ]
  },
  {
   "cell_type": "code",
   "execution_count": 4,
   "id": "a92d28cd",
   "metadata": {
    "execution": {
     "iopub.execute_input": "2023-03-16T15:16:34.449875Z",
     "iopub.status.busy": "2023-03-16T15:16:34.449559Z",
     "iopub.status.idle": "2023-03-16T15:16:36.072195Z",
     "shell.execute_reply": "2023-03-16T15:16:36.071324Z"
    },
    "papermill": {
     "duration": 1.633439,
     "end_time": "2023-03-16T15:16:36.077144",
     "exception": false,
     "start_time": "2023-03-16T15:16:34.443705",
     "status": "completed"
    },
    "tags": []
   },
   "outputs": [
    {
     "data": {
      "image/png": "[encoded data removed]",
      "text/plain": [
       "<Figure size 360x1800 with 10 Axes>"
      ]
     },
     "metadata": {},
     "output_type": "display_data"
    }
   ],
   "source": [
    "# pick the left hand and right hand points\n",
    "sample_left_hand = sample[sample.type == \"left_hand\"]\n",
    "sample_right_hand = sample[sample.type == \"right_hand\"]\n",
    "\n",
    "# edges that represents the hand edges\n",
    "edges = [(0,1),(1,2),(2,3),(3,4),(0,5),(0,17),(5,6),(6,7),(7,8),(5,9),(9,10),(10,11),(11,12),\n",
    "         (9,13),(13,14),(14,15),(15,16),(13,17),(17,18),(18,19),(19,20)]\n",
    "\n",
    "# plotting a single frame into matplotlib\n",
    "def plot_frame(df, frame_id, ax):\n",
    "    df = df[df.frame == frame_id].sort_values(['landmark_index'])\n",
    "    x = list(df.x)\n",
    "    y = list(df.y)\n",
    "    \n",
    "    # plotting the points\n",
    "    ax.scatter(df.x, df.y, color='dodgerblue')\n",
    "    for i in range(len(x)):\n",
    "        ax.text(x[i], y[i], str(i))\n",
    "    \n",
    "    # plotting the edges that represents the hand\n",
    "    for edge in edges:\n",
    "        ax.plot([x[edge[0]], x[edge[1]]], [y[edge[0]], y[edge[1]]], color='salmon')\n",
    "        ax.set_xlabel(f\"Frame no. {frame_id}\")\n",
    "        ax.set_xticks([])\n",
    "        ax.set_yticks([])\n",
    "        ax.set_xticklabels([])\n",
    "        ax.set_yticklabels([])\n",
    "\n",
    "# plotting the multiple frames\n",
    "def plot_frame_seq(df, frame_range, n_frames):\n",
    "    frames = np.linspace(frame_range[0],frame_range[1],n_frames, dtype = int, endpoint=True)\n",
    "    fig, ax = plt.subplots(n_frames, 1, figsize=(5,25))\n",
    "    for i in range(n_frames):\n",
    "        plot_frame(df, frames[i], ax[i])\n",
    "        \n",
    "    plt.show()\n",
    "\n",
    "plot_frame_seq(sample_left_hand, (178,186), 10)"
   ]
  },
  {
   "cell_type": "markdown",
   "id": "861d42ac",
   "metadata": {
    "papermill": {
     "duration": 0.007262,
     "end_time": "2023-03-16T15:16:36.091981",
     "exception": false,
     "start_time": "2023-03-16T15:16:36.084719",
     "status": "completed"
    },
    "tags": []
   },
   "source": [
    "<a id=\"section-three\"></a>\n",
    "# Load Data"
   ]
  },
  {
   "cell_type": "code",
   "execution_count": 5,
   "id": "ec6ad730",
   "metadata": {
    "execution": {
     "iopub.execute_input": "2023-03-16T15:16:36.108253Z",
     "iopub.status.busy": "2023-03-16T15:16:36.107950Z",
     "iopub.status.idle": "2023-03-16T15:16:36.113431Z",
     "shell.execute_reply": "2023-03-16T15:16:36.112335Z"
    },
    "papermill": {
     "duration": 0.016179,
     "end_time": "2023-03-16T15:16:36.115431",
     "exception": false,
     "start_time": "2023-03-16T15:16:36.099252",
     "status": "completed"
    },
    "tags": []
   },
   "outputs": [],
   "source": [
    "# Set constants and pick important landmarks\n",
    "LANDMARK_IDX = [0,9,11,13,14,17,117,118,119,199,346,347,348] + list(range(468,543))\n",
    "DATA_PATH = \"./archive/GoogleISLDatasetBatched\"\n",
    "DS_CARDINALITY = 185\n",
    "VAL_SIZE  = 18\n",
    "N_SIGNS = 250\n",
    "ROWS_PER_FRAME = 543"
   ]
  },
  {
   "attachments": {},
   "cell_type": "markdown",
   "id": "f16a8da5",
   "metadata": {
    "papermill": {
     "duration": 0.007182,
     "end_time": "2023-03-16T15:16:36.129772",
     "exception": false,
     "start_time": "2023-03-16T15:16:36.122590",
     "status": "completed"
    },
    "tags": []
   },
   "source": [
    "We are using the [tf.Dataset](https://www.tensorflow.org/api_docs/python/tf/data/Dataset) from [tfdataset-of-google-isl-recognition-data](https://www.kaggle.com/datasets/aapokossi/saved-tfdataset-of-google-isl-recognition-data)."
   ]
  },
  {
   "cell_type": "code",
   "execution_count": 6,
   "id": "c04908c1",
   "metadata": {
    "execution": {
     "iopub.execute_input": "2023-03-16T15:16:36.145833Z",
     "iopub.status.busy": "2023-03-16T15:16:36.145309Z",
     "iopub.status.idle": "2023-03-16T15:16:40.251300Z",
     "shell.execute_reply": "2023-03-16T15:16:40.250239Z"
    },
    "papermill": {
     "duration": 4.116994,
     "end_time": "2023-03-16T15:16:40.254058",
     "exception": false,
     "start_time": "2023-03-16T15:16:36.137064",
     "status": "completed"
    },
    "tags": []
   },
   "outputs": [],
   "source": [
    "def preprocess(ragged_batch, labels):\n",
    "    ragged_batch = tf.gather(ragged_batch, LANDMARK_IDX, axis=2)\n",
    "    ragged_batch = tf.where(tf.math.is_nan(ragged_batch), tf.zeros_like(ragged_batch), ragged_batch)\n",
    "    return tf.concat([ragged_batch[...,i] for i in range(3)],-1), labels\n",
    "\n",
    "dataset = tf.data.Dataset.load(DATA_PATH)\n",
    "dataset = dataset.map(preprocess)\n",
    "val_ds = dataset.take(VAL_SIZE).cache().prefetch(tf.data.AUTOTUNE)\n",
    "train_ds = dataset.skip(VAL_SIZE).cache().shuffle(20).prefetch(tf.data.AUTOTUNE)"
   ]
  },
  {
   "cell_type": "markdown",
   "id": "ccda5919",
   "metadata": {
    "papermill": {
     "duration": 0.007258,
     "end_time": "2023-03-16T15:16:40.269383",
     "exception": false,
     "start_time": "2023-03-16T15:16:40.262125",
     "status": "completed"
    },
    "tags": []
   },
   "source": [
    "<a id=\"section-four\"></a>\n",
    "# Train Model"
   ]
  },
  {
   "cell_type": "markdown",
   "id": "36e76597",
   "metadata": {
    "papermill": {
     "duration": 0.007136,
     "end_time": "2023-03-16T15:16:40.283747",
     "exception": false,
     "start_time": "2023-03-16T15:16:40.276611",
     "status": "completed"
    },
    "tags": []
   },
   "source": [
    "Now let us get to the fun part, training the model!"
   ]
  },
  {
   "cell_type": "code",
   "execution_count": 7,
   "id": "4311e26a",
   "metadata": {
    "execution": {
     "iopub.execute_input": "2023-03-16T15:16:40.302047Z",
     "iopub.status.busy": "2023-03-16T15:16:40.300255Z",
     "iopub.status.idle": "2023-03-16T15:16:40.308611Z",
     "shell.execute_reply": "2023-03-16T15:16:40.307696Z"
    },
    "papermill": {
     "duration": 0.019327,
     "end_time": "2023-03-16T15:16:40.310728",
     "exception": false,
     "start_time": "2023-03-16T15:16:40.291401",
     "status": "completed"
    },
    "tags": []
   },
   "outputs": [],
   "source": [
    "# include early stopping and reducelr\n",
    "def get_callbacks():\n",
    "    return [\n",
    "            tf.keras.callbacks.EarlyStopping(\n",
    "            monitor=\"val_accuracy\",\n",
    "            patience = 10,\n",
    "            restore_best_weights=True\n",
    "        ),\n",
    "        tf.keras.callbacks.ReduceLROnPlateau(\n",
    "            monitor = \"val_accuracy\",\n",
    "            factor = 0.5,\n",
    "            patience = 3\n",
    "        ),\n",
    "    ]\n",
    "\n",
    "# a single dense block followed by a normalization block and relu activation\n",
    "def dense_block(units, name):\n",
    "    fc = layers.Dense(units)\n",
    "    norm = layers.LayerNormalization()\n",
    "    act = layers.Activation(\"relu\")\n",
    "    drop = layers.Dropout(0.1)\n",
    "    return lambda x: drop(act(norm(fc(x))))\n",
    "\n",
    "# the lstm block with the final dense block for the classification\n",
    "def classifier(lstm_units):\n",
    "    lstm = layers.LSTM(lstm_units)\n",
    "    out = layers.Dense(N_SIGNS, activation=\"softmax\")\n",
    "    return lambda x: out(lstm(x))"
   ]
  },
  {
   "cell_type": "code",
   "execution_count": 13,
   "id": "9cf30ba8",
   "metadata": {
    "execution": {
     "iopub.execute_input": "2023-03-16T15:16:40.327057Z",
     "iopub.status.busy": "2023-03-16T15:16:40.326182Z",
     "iopub.status.idle": "2023-03-16T15:16:40.873345Z",
     "shell.execute_reply": "2023-03-16T15:16:40.872500Z"
    },
    "papermill": {
     "duration": 0.574679,
     "end_time": "2023-03-16T15:16:40.892649",
     "exception": false,
     "start_time": "2023-03-16T15:16:40.317970",
     "status": "completed"
    },
    "tags": []
   },
   "outputs": [
    {
     "name": "stdout",
     "output_type": "stream",
     "text": [
      "Model: \"model_1\"\n",
      "_________________________________________________________________\n",
      " Layer (type)                Output Shape              Param #   \n",
      "=================================================================\n",
      " input_2 (InputLayer)        [(None, None, 264)]       0         \n",
      "                                                                 \n",
      " dense_3 (Dense)             (None, None, 256)         67840     \n",
      "                                                                 \n",
      " layer_normalization_2 (Laye  (None, None, 256)        512       \n",
      " rNormalization)                                                 \n",
      "                                                                 \n",
      " activation_2 (Activation)   (None, None, 256)         0         \n",
      "                                                                 \n",
      " dropout_2 (Dropout)         (None, None, 256)         0         \n",
      "                                                                 \n",
      " dense_4 (Dense)             (None, None, 128)         32896     \n",
      "                                                                 \n",
      " layer_normalization_3 (Laye  (None, None, 128)        256       \n",
      " rNormalization)                                                 \n",
      "                                                                 \n",
      " activation_3 (Activation)   (None, None, 128)         0         \n",
      "                                                                 \n",
      " dropout_3 (Dropout)         (None, None, 128)         0         \n",
      "                                                                 \n",
      " lstm_1 (LSTM)               (None, 100)               91600     \n",
      "                                                                 \n",
      " dense_5 (Dense)             (None, 250)               25250     \n",
      "                                                                 \n",
      "=================================================================\n",
      "Total params: 218,354\n",
      "Trainable params: 218,354\n",
      "Non-trainable params: 0\n",
      "_________________________________________________________________\n"
     ]
    }
   ],
   "source": [
    "# choose the number of nodes per layer\n",
    "\n",
    "encoder_units = [256, 128]\n",
    "lstm_units = 100 \n",
    "\n",
    "#define the inputs (ragged batches of time series of landmark coordinates)\n",
    "inputs = tf.keras.Input(shape=(None,3*len(LANDMARK_IDX)), ragged=True)\n",
    "\n",
    "# dense encoder model\n",
    "x = inputs\n",
    "for i, n in enumerate(encoder_units):\n",
    "    x = dense_block(n, f\"encoder_{i}\")(x)\n",
    "\n",
    "# classifier model\n",
    "out = classifier(lstm_units)(x)\n",
    "\n",
    "model = tf.keras.Model(inputs=inputs, outputs=out)\n",
    "model.summary()"
   ]
  },
  {
   "cell_type": "code",
   "execution_count": 14,
   "id": "afb9e80a",
   "metadata": {
    "execution": {
     "iopub.execute_input": "2023-03-16T15:16:40.912632Z",
     "iopub.status.busy": "2023-03-16T15:16:40.912079Z",
     "iopub.status.idle": "2023-03-16T15:16:40.967770Z",
     "shell.execute_reply": "2023-03-16T15:16:40.966714Z"
    },
    "papermill": {
     "duration": 0.068351,
     "end_time": "2023-03-16T15:16:40.970358",
     "exception": false,
     "start_time": "2023-03-16T15:16:40.902007",
     "status": "completed"
    },
    "tags": []
   },
   "outputs": [],
   "source": [
    "# add a decreasing learning rate scheduler to help convergence\n",
    "steps_per_epoch = DS_CARDINALITY - VAL_SIZE\n",
    "boundaries = [steps_per_epoch * n for n in [30,50,70]]\n",
    "values = [1e-3,1e-4,1e-5,1e-6]\n",
    "#lr_sched = optimizers.schedules.PiecewiseConstantDecay(boundaries, values)\n",
    "optimizer = optimizers.Adam(learning_rate= 1e-3)\n",
    "\n",
    "model.compile(optimizer=optimizer,\n",
    "              loss=\"sparse_categorical_crossentropy\",\n",
    "              metrics=[\"accuracy\",\"sparse_top_k_categorical_accuracy\"])"
   ]
  },
  {
   "cell_type": "code",
   "execution_count": 15,
   "id": "b4391ab1",
   "metadata": {
    "execution": {
     "iopub.execute_input": "2023-03-16T15:16:40.990082Z",
     "iopub.status.busy": "2023-03-16T15:16:40.989795Z",
     "iopub.status.idle": "2023-03-16T16:11:03.937681Z",
     "shell.execute_reply": "2023-03-16T16:11:03.936556Z"
    },
    "papermill": {
     "duration": 3262.960073,
     "end_time": "2023-03-16T16:11:03.939870",
     "exception": false,
     "start_time": "2023-03-16T15:16:40.979797",
     "status": "completed"
    },
    "tags": []
   },
   "outputs": [
    {
     "name": "stdout",
     "output_type": "stream",
     "text": [
      "Epoch 1/10\n"
     ]
    },
    {
     "name": "stderr",
     "output_type": "stream",
     "text": [
      "c:\\Users\\Saumya\\AppData\\Local\\Programs\\Python\\Python39\\lib\\site-packages\\tensorflow\\python\\framework\\indexed_slices.py:444: UserWarning: Converting sparse IndexedSlices(IndexedSlices(indices=Tensor(\"gradient_tape/model_1/lstm_1/RaggedToTensor/boolean_mask_1/GatherV2:0\", shape=(None,), dtype=int32), values=Tensor(\"gradient_tape/model_1/lstm_1/RaggedToTensor/boolean_mask/GatherV2:0\", shape=(None, 128), dtype=float32), dense_shape=Tensor(\"gradient_tape/model_1/lstm_1/RaggedToTensor/Shape:0\", shape=(2,), dtype=int32))) to a dense Tensor of unknown shape. This may consume a large amount of memory.\n",
      "  warnings.warn(\n",
      "c:\\Users\\Saumya\\AppData\\Local\\Programs\\Python\\Python39\\lib\\site-packages\\tensorflow\\python\\framework\\indexed_slices.py:444: UserWarning: Converting sparse IndexedSlices(IndexedSlices(indices=Tensor(\"gradient_tape/model_1/layer_normalization_3/RaggedToTensor/boolean_mask_1/GatherV2:0\", shape=(None,), dtype=int32), values=Tensor(\"gradient_tape/model_1/layer_normalization_3/RaggedToTensor/boolean_mask/GatherV2:0\", shape=(None, 128), dtype=float32), dense_shape=Tensor(\"gradient_tape/model_1/layer_normalization_3/RaggedToTensor/Shape:0\", shape=(2,), dtype=int32))) to a dense Tensor of unknown shape. This may consume a large amount of memory.\n",
      "  warnings.warn(\n",
      "c:\\Users\\Saumya\\AppData\\Local\\Programs\\Python\\Python39\\lib\\site-packages\\tensorflow\\python\\framework\\indexed_slices.py:444: UserWarning: Converting sparse IndexedSlices(IndexedSlices(indices=Tensor(\"gradient_tape/model_1/layer_normalization_2/RaggedToTensor/boolean_mask_1/GatherV2:0\", shape=(None,), dtype=int32), values=Tensor(\"gradient_tape/model_1/layer_normalization_2/RaggedToTensor/boolean_mask/GatherV2:0\", shape=(None, 256), dtype=float32), dense_shape=Tensor(\"gradient_tape/model_1/layer_normalization_2/RaggedToTensor/Shape:0\", shape=(2,), dtype=int32))) to a dense Tensor of unknown shape. This may consume a large amount of memory.\n",
      "  warnings.warn(\n"
     ]
    },
    {
     "name": "stdout",
     "output_type": "stream",
     "text": [
      "167/167 [==============================] - 666s 4s/step - loss: 5.3941 - accuracy: 0.0089 - sparse_top_k_categorical_accuracy: 0.0412 - val_loss: 5.0498 - val_accuracy: 0.0242 - val_sparse_top_k_categorical_accuracy: 0.0906 - lr: 0.0010\n",
      "Epoch 2/10\n",
      "167/167 [==============================] - 613s 4s/step - loss: 4.7736 - accuracy: 0.0433 - sparse_top_k_categorical_accuracy: 0.1525 - val_loss: 4.5944 - val_accuracy: 0.0569 - val_sparse_top_k_categorical_accuracy: 0.1891 - lr: 0.0010\n",
      "Epoch 3/10\n",
      "167/167 [==============================] - 603s 4s/step - loss: 4.2584 - accuracy: 0.0985 - sparse_top_k_categorical_accuracy: 0.2920 - val_loss: 4.0077 - val_accuracy: 0.1270 - val_sparse_top_k_categorical_accuracy: 0.3582 - lr: 0.0010\n",
      "Epoch 4/10\n",
      "167/167 [==============================] - 625s 4s/step - loss: 3.8323 - accuracy: 0.1550 - sparse_top_k_categorical_accuracy: 0.4040 - val_loss: 3.7357 - val_accuracy: 0.1645 - val_sparse_top_k_categorical_accuracy: 0.4194 - lr: 0.0010\n",
      "Epoch 5/10\n",
      "167/167 [==============================] - 619s 4s/step - loss: 3.5114 - accuracy: 0.2084 - sparse_top_k_categorical_accuracy: 0.4863 - val_loss: 3.3619 - val_accuracy: 0.2319 - val_sparse_top_k_categorical_accuracy: 0.5222 - lr: 0.0010\n",
      "Epoch 6/10\n",
      "167/167 [==============================] - 632s 4s/step - loss: 3.2746 - accuracy: 0.2491 - sparse_top_k_categorical_accuracy: 0.5436 - val_loss: 3.1592 - val_accuracy: 0.2699 - val_sparse_top_k_categorical_accuracy: 0.5709 - lr: 0.0010\n",
      "Epoch 7/10\n",
      "167/167 [==============================] - 615s 4s/step - loss: 3.0483 - accuracy: 0.2940 - sparse_top_k_categorical_accuracy: 0.5952 - val_loss: 3.0639 - val_accuracy: 0.2854 - val_sparse_top_k_categorical_accuracy: 0.5854 - lr: 0.0010\n",
      "Epoch 8/10\n",
      "167/167 [==============================] - 620s 4s/step - loss: 2.8584 - accuracy: 0.3291 - sparse_top_k_categorical_accuracy: 0.6345 - val_loss: 2.7692 - val_accuracy: 0.3479 - val_sparse_top_k_categorical_accuracy: 0.6480 - lr: 0.0010\n",
      "Epoch 9/10\n",
      "167/167 [==============================] - 605s 4s/step - loss: 2.6893 - accuracy: 0.3625 - sparse_top_k_categorical_accuracy: 0.6671 - val_loss: 2.7146 - val_accuracy: 0.3520 - val_sparse_top_k_categorical_accuracy: 0.6553 - lr: 0.0010\n",
      "Epoch 10/10\n",
      "167/167 [==============================] - 600s 4s/step - loss: 2.5853 - accuracy: 0.3839 - sparse_top_k_categorical_accuracy: 0.6867 - val_loss: 2.6173 - val_accuracy: 0.3669 - val_sparse_top_k_categorical_accuracy: 0.6764 - lr: 0.0010\n"
     ]
    },
    {
     "data": {
      "text/plain": [
       "<keras.callbacks.History at 0x28859db0940>"
      ]
     },
     "execution_count": 15,
     "metadata": {},
     "output_type": "execute_result"
    }
   ],
   "source": [
    "# fit the model with 100 epochs iteration\n",
    "model.fit(train_ds,\n",
    "          validation_data = val_ds,\n",
    "          callbacks = get_callbacks(),\n",
    "          epochs = 10)"
   ]
  },
  {
   "cell_type": "markdown",
   "id": "7f19b1a2",
   "metadata": {
    "papermill": {
     "duration": 0.600259,
     "end_time": "2023-03-16T16:11:05.487927",
     "exception": false,
     "start_time": "2023-03-16T16:11:04.887668",
     "status": "completed"
    },
    "tags": []
   },
   "source": [
    "<a id=\"section-five\"></a>\n",
    "# Submit Model"
   ]
  },
  {
   "cell_type": "markdown",
   "id": "712cbfb3",
   "metadata": {
    "papermill": {
     "duration": 0.599043,
     "end_time": "2023-03-16T16:11:06.731892",
     "exception": false,
     "start_time": "2023-03-16T16:11:06.132849",
     "status": "completed"
    },
    "tags": []
   },
   "source": [
    "Now it is time to submit. In this competition, we should submit the model itself."
   ]
  },
  {
   "cell_type": "code",
   "execution_count": 16,
   "id": "1427e3e4",
   "metadata": {
    "execution": {
     "iopub.execute_input": "2023-03-16T16:11:07.979087Z",
     "iopub.status.busy": "2023-03-16T16:11:07.978470Z",
     "iopub.status.idle": "2023-03-16T16:11:08.014480Z",
     "shell.execute_reply": "2023-03-16T16:11:08.013708Z"
    },
    "papermill": {
     "duration": 0.700688,
     "end_time": "2023-03-16T16:11:08.029341",
     "exception": false,
     "start_time": "2023-03-16T16:11:07.328653",
     "status": "completed"
    },
    "tags": []
   },
   "outputs": [
    {
     "name": "stdout",
     "output_type": "stream",
     "text": [
      "Model: \"model_1\"\n",
      "_________________________________________________________________\n",
      " Layer (type)                Output Shape              Param #   \n",
      "=================================================================\n",
      " input_2 (InputLayer)        [(None, None, 264)]       0         \n",
      "                                                                 \n",
      " dense_3 (Dense)             (None, None, 256)         67840     \n",
      "                                                                 \n",
      " layer_normalization_2 (Laye  (None, None, 256)        512       \n",
      " rNormalization)                                                 \n",
      "                                                                 \n",
      " activation_2 (Activation)   (None, None, 256)         0         \n",
      "                                                                 \n",
      " dropout_2 (Dropout)         (None, None, 256)         0         \n",
      "                                                                 \n",
      " dense_4 (Dense)             (None, None, 128)         32896     \n",
      "                                                                 \n",
      " layer_normalization_3 (Laye  (None, None, 128)        256       \n",
      " rNormalization)                                                 \n",
      "                                                                 \n",
      " activation_3 (Activation)   (None, None, 128)         0         \n",
      "                                                                 \n",
      " dropout_3 (Dropout)         (None, None, 128)         0         \n",
      "                                                                 \n",
      " lstm_1 (LSTM)               (None, 100)               91600     \n",
      "                                                                 \n",
      " dense_5 (Dense)             (None, 250)               25250     \n",
      "                                                                 \n",
      "=================================================================\n",
      "Total params: 218,354\n",
      "Trainable params: 218,354\n",
      "Non-trainable params: 0\n",
      "_________________________________________________________________\n"
     ]
    }
   ],
   "source": [
    "model.summary(expand_nested=True)"
   ]
  },
  {
   "cell_type": "code",
   "execution_count": 17,
   "id": "26a8ba98",
   "metadata": {
    "execution": {
     "iopub.execute_input": "2023-03-16T16:11:09.275141Z",
     "iopub.status.busy": "2023-03-16T16:11:09.274777Z",
     "iopub.status.idle": "2023-03-16T16:11:09.282051Z",
     "shell.execute_reply": "2023-03-16T16:11:09.280965Z"
    },
    "papermill": {
     "duration": 0.659013,
     "end_time": "2023-03-16T16:11:09.284211",
     "exception": false,
     "start_time": "2023-03-16T16:11:08.625198",
     "status": "completed"
    },
    "tags": []
   },
   "outputs": [],
   "source": [
    "def get_inference_model(model):\n",
    "    inputs = tf.keras.Input(shape=(ROWS_PER_FRAME,3), name=\"inputs\")\n",
    "    \n",
    "    # drop most of the face mesh\n",
    "    x = tf.gather(inputs, LANDMARK_IDX, axis=1)\n",
    "\n",
    "    # fill nan\n",
    "    x = tf.where(tf.math.is_nan(x), tf.zeros_like(x), x)\n",
    "\n",
    "    # flatten landmark xyz coordinates ()\n",
    "    x = tf.concat([x[...,i] for i in range(3)], -1)\n",
    "\n",
    "    x = tf.expand_dims(x,0)\n",
    "    \n",
    "    # call trained model\n",
    "    out = model(x)\n",
    "    \n",
    "    # explicitly name the final (identity) layer for the submission format\n",
    "    out = layers.Activation(\"linear\", name=\"outputs\")(out)\n",
    "    \n",
    "    inference_model = tf.keras.Model(inputs=inputs, outputs=out)\n",
    "    inference_model.compile(loss=\"sparse_categorical_crossentropy\",\n",
    "                            metrics=\"accuracy\")\n",
    "    return inference_model"
   ]
  },
  {
   "cell_type": "code",
   "execution_count": 18,
   "id": "5d5a7e7e",
   "metadata": {
    "execution": {
     "iopub.execute_input": "2023-03-16T16:11:10.476775Z",
     "iopub.status.busy": "2023-03-16T16:11:10.476403Z",
     "iopub.status.idle": "2023-03-16T16:11:10.864096Z",
     "shell.execute_reply": "2023-03-16T16:11:10.863170Z"
    },
    "papermill": {
     "duration": 1.029893,
     "end_time": "2023-03-16T16:11:10.905979",
     "exception": false,
     "start_time": "2023-03-16T16:11:09.876086",
     "status": "completed"
    },
    "tags": []
   },
   "outputs": [
    {
     "name": "stdout",
     "output_type": "stream",
     "text": [
      "Model: \"model_2\"\n",
      "__________________________________________________________________________________________________\n",
      " Layer (type)                   Output Shape         Param #     Connected to                     \n",
      "==================================================================================================\n",
      " inputs (InputLayer)            [(None, 543, 3)]     0           []                               \n",
      "                                                                                                  \n",
      " tf.compat.v1.gather (TFOpLambd  (None, 88, 3)       0           ['inputs[0][0]']                 \n",
      " a)                                                                                               \n",
      "                                                                                                  \n",
      " tf.math.is_nan (TFOpLambda)    (None, 88, 3)        0           ['tf.compat.v1.gather[0][0]']    \n",
      "                                                                                                  \n",
      " tf.zeros_like (TFOpLambda)     (None, 88, 3)        0           ['tf.compat.v1.gather[0][0]']    \n",
      "                                                                                                  \n",
      " tf.where (TFOpLambda)          (None, 88, 3)        0           ['tf.math.is_nan[0][0]',         \n",
      "                                                                  'tf.zeros_like[0][0]',          \n",
      "                                                                  'tf.compat.v1.gather[0][0]']    \n",
      "                                                                                                  \n",
      " tf.__operators__.getitem (Slic  (None, 88)          0           ['tf.where[0][0]']               \n",
      " ingOpLambda)                                                                                     \n",
      "                                                                                                  \n",
      " tf.__operators__.getitem_1 (Sl  (None, 88)          0           ['tf.where[0][0]']               \n",
      " icingOpLambda)                                                                                   \n",
      "                                                                                                  \n",
      " tf.__operators__.getitem_2 (Sl  (None, 88)          0           ['tf.where[0][0]']               \n",
      " icingOpLambda)                                                                                   \n",
      "                                                                                                  \n",
      " tf.concat (TFOpLambda)         (None, 264)          0           ['tf.__operators__.getitem[0][0]'\n",
      "                                                                 , 'tf.__operators__.getitem_1[0][\n",
      "                                                                 0]',                             \n",
      "                                                                  'tf.__operators__.getitem_2[0][0\n",
      "                                                                 ]']                              \n",
      "                                                                                                  \n",
      " tf.expand_dims (TFOpLambda)    (1, None, 264)       0           ['tf.concat[0][0]']              \n",
      "                                                                                                  \n",
      " model_1 (Functional)           (None, 250)          218354      ['tf.expand_dims[0][0]']         \n",
      "|¯¯¯¯¯¯¯¯¯¯¯¯¯¯¯¯¯¯¯¯¯¯¯¯¯¯¯¯¯¯¯¯¯¯¯¯¯¯¯¯¯¯¯¯¯¯¯¯¯¯¯¯¯¯¯¯¯¯¯¯¯¯¯¯¯¯¯¯¯¯¯¯¯¯¯¯¯¯¯¯¯¯¯¯¯¯¯¯¯¯¯¯¯¯¯¯|\n",
      "| input_2 (InputLayer)         [(None, None, 264)]  0           []                               |\n",
      "|                                                                                                |\n",
      "| dense_3 (Dense)              (None, None, 256)    67840       []                               |\n",
      "|                                                                                                |\n",
      "| layer_normalization_2 (LayerNo  (None, None, 256)  512        []                               |\n",
      "| rmalization)                                                                                   |\n",
      "|                                                                                                |\n",
      "| activation_2 (Activation)    (None, None, 256)    0           []                               |\n",
      "|                                                                                                |\n",
      "| dropout_2 (Dropout)          (None, None, 256)    0           []                               |\n",
      "|                                                                                                |\n",
      "| dense_4 (Dense)              (None, None, 128)    32896       []                               |\n",
      "|                                                                                                |\n",
      "| layer_normalization_3 (LayerNo  (None, None, 128)  256        []                               |\n",
      "| rmalization)                                                                                   |\n",
      "|                                                                                                |\n",
      "| activation_3 (Activation)    (None, None, 128)    0           []                               |\n",
      "|                                                                                                |\n",
      "| dropout_3 (Dropout)          (None, None, 128)    0           []                               |\n",
      "|                                                                                                |\n",
      "| lstm_1 (LSTM)                (None, 100)          91600       []                               |\n",
      "|                                                                                                |\n",
      "| dense_5 (Dense)              (None, 250)          25250       []                               |\n",
      "¯¯¯¯¯¯¯¯¯¯¯¯¯¯¯¯¯¯¯¯¯¯¯¯¯¯¯¯¯¯¯¯¯¯¯¯¯¯¯¯¯¯¯¯¯¯¯¯¯¯¯¯¯¯¯¯¯¯¯¯¯¯¯¯¯¯¯¯¯¯¯¯¯¯¯¯¯¯¯¯¯¯¯¯¯¯¯¯¯¯¯¯¯¯¯¯¯¯\n",
      " outputs (Activation)           (1, 250)             0           ['model_1[0][0]']                \n",
      "                                                                                                  \n",
      "==================================================================================================\n",
      "Total params: 218,354\n",
      "Trainable params: 218,354\n",
      "Non-trainable params: 0\n",
      "__________________________________________________________________________________________________\n"
     ]
    }
   ],
   "source": [
    "inference_model = get_inference_model(model)\n",
    "inference_model.summary(expand_nested=True)"
   ]
  },
  {
   "cell_type": "code",
   "execution_count": 20,
   "id": "5fede5e8",
   "metadata": {
    "execution": {
     "iopub.execute_input": "2023-03-16T16:11:12.163840Z",
     "iopub.status.busy": "2023-03-16T16:11:12.163308Z",
     "iopub.status.idle": "2023-03-16T16:11:25.442723Z",
     "shell.execute_reply": "2023-03-16T16:11:25.441505Z"
    },
    "papermill": {
     "duration": 13.886115,
     "end_time": "2023-03-16T16:11:25.445238",
     "exception": false,
     "start_time": "2023-03-16T16:11:11.559123",
     "status": "completed"
    },
    "tags": []
   },
   "outputs": [
    {
     "name": "stderr",
     "output_type": "stream",
     "text": [
      "WARNING:absl:Found untraced functions such as lstm_cell_1_layer_call_fn, lstm_cell_1_layer_call_and_return_conditional_losses while saving (showing 2 of 2). These functions will not be directly callable after loading.\n"
     ]
    },
    {
     "name": "stdout",
     "output_type": "stream",
     "text": [
      "INFO:tensorflow:Assets written to: C:\\Users\\Saumya\\AppData\\Local\\Temp\\tmp117b9eoy\\assets\n"
     ]
    },
    {
     "name": "stderr",
     "output_type": "stream",
     "text": [
      "INFO:tensorflow:Assets written to: C:\\Users\\Saumya\\AppData\\Local\\Temp\\tmp117b9eoy\\assets\n"
     ]
    }
   ],
   "source": [
    "# save the model\n",
    "converter = tf.lite.TFLiteConverter.from_keras_model(inference_model)\n",
    "tflite_model = converter.convert()\n",
    "model_path = \"model.tflite\"\n",
    "\n",
    "# save the model\n",
    "with open(model_path, 'wb') as f:\n",
    "    f.write(tflite_model)"
   ]
  },
  {
   "cell_type": "code",
   "execution_count": null,
   "id": "cddcfaf8",
   "metadata": {
    "papermill": {
     "duration": 0.822271,
     "end_time": "2023-03-16T16:11:26.950484",
     "exception": false,
     "start_time": "2023-03-16T16:11:26.128213",
     "status": "completed"
    },
    "tags": []
   },
   "outputs": [],
   "source": []
  }
 ],
 "metadata": {
  "kernelspec": {
   "display_name": "Python 3",
   "language": "python",
   "name": "python3"
  },
  "language_info": {
   "codemirror_mode": {
    "name": "ipython",
    "version": 3
   },
   "file_extension": ".py",
   "mimetype": "text/x-python",
   "name": "python",
   "nbconvert_exporter": "python",
   "pygments_lexer": "ipython3",
   "version": "3.9.1"
  },
  "papermill": {
   "default_parameters": {},
   "duration": 3315.159476,
   "end_time": "2023-03-16T16:11:31.554557",
   "environment_variables": {},
   "exception": null,
   "input_path": "__notebook__.ipynb",
   "output_path": "__notebook__.ipynb",
   "parameters": {},
   "start_time": "2023-03-16T15:16:16.395081",
   "version": "2.4.0"
  }
 },
 "nbformat": 4,
 "nbformat_minor": 5
}
